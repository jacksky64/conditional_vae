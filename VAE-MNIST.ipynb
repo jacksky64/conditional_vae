{
 "cells": [
  {
   "cell_type": "markdown",
   "metadata": {
    "collapsed": true
   },
   "source": [
    "## Variational Auto-encoder on MNIST\n",
    "### Reference: \n",
    "- https://blog.csdn.net/qq_39388410/article/details/79129197\n",
    "- https://github.com/wiseodd/generative-models/blob/master/VAE/conditional_vae/cvae_tensorflow.py\n",
    "- https://github.com/hwalsuklee/tensorflow-mnist-VAE/blob/master/vae.py"
   ]
  },
  {
   "cell_type": "code",
   "execution_count": 1,
   "metadata": {
    "collapsed": true
   },
   "outputs": [],
   "source": [
    "import matplotlib\n",
    "matplotlib.use('Agg')\n",
    "%matplotlib inline\n",
    "import matplotlib.pyplot as plt"
   ]
  },
  {
   "cell_type": "code",
   "execution_count": 2,
   "metadata": {},
   "outputs": [
    {
     "name": "stderr",
     "output_type": "stream",
     "text": [
      "/home/mzx/.local/lib/python3.5/site-packages/h5py/__init__.py:36: FutureWarning: Conversion of the second argument of issubdtype from `float` to `np.floating` is deprecated. In future, it will be treated as `np.float64 == np.dtype(float).type`.\n",
      "  from ._conv import register_converters as _register_converters\n"
     ]
    }
   ],
   "source": [
    "import tensorflow as tf\n",
    "import numpy as np"
   ]
  },
  {
   "cell_type": "markdown",
   "metadata": {},
   "source": [
    "### Load the MNIST dataset"
   ]
  },
  {
   "cell_type": "code",
   "execution_count": 3,
   "metadata": {},
   "outputs": [
    {
     "name": "stdout",
     "output_type": "stream",
     "text": [
      "Extracting ./MNIST_data/train-images-idx3-ubyte.gz\n",
      "Extracting ./MNIST_data/train-labels-idx1-ubyte.gz\n",
      "Extracting ./MNIST_data/t10k-images-idx3-ubyte.gz\n",
      "Extracting ./MNIST_data/t10k-labels-idx1-ubyte.gz\n"
     ]
    }
   ],
   "source": [
    "from tensorflow.examples.tutorials.mnist import input_data\n",
    "mnist = input_data.read_data_sets('./MNIST_data', one_hot=True, validation_size=5000)"
   ]
  },
  {
   "cell_type": "code",
   "execution_count": 4,
   "metadata": {
    "collapsed": true
   },
   "outputs": [],
   "source": [
    "## Init\n",
    "batch_size = 64\n",
    "\n",
    "X_in = tf.placeholder(dtype=tf.float32, shape=[None, 784], name='X_in')\n",
    "X_out = tf.placeholder(dtype=tf.float32, shape=[None, 784], name='X_out')\n",
    "keep_prob = tf.placeholder(dtype=tf.float32, shape=(), name='keep_prob')"
   ]
  },
  {
   "cell_type": "code",
   "execution_count": 5,
   "metadata": {
    "collapsed": true
   },
   "outputs": [],
   "source": [
    "## Dimension of the latent z\n",
    "n_latent = 32"
   ]
  },
  {
   "cell_type": "markdown",
   "metadata": {},
   "source": [
    "### The encoder, i.e. the discriminator"
   ]
  },
  {
   "cell_type": "code",
   "execution_count": 6,
   "metadata": {
    "collapsed": true
   },
   "outputs": [],
   "source": [
    "def encoder(X_in, keep_prob):\n",
    "    with tf.variable_scope(\"encoder\", reuse=None):\n",
    "        x = tf.layers.dense(X_in, units=128, activation=tf.nn.relu)\n",
    "        x = tf.nn.dropout(x, keep_prob)        \n",
    "        x = tf.layers.dense(x, units=64, activation=tf.nn.relu)\n",
    "        x = tf.nn.dropout(x, keep_prob)        \n",
    "        # The latent layer\n",
    "        mu = tf.layers.dense(x, units=n_latent)\n",
    "        sigma = 1e-6 + tf.nn.softplus(tf.layers.dense(x, units=n_latent)) # softplus to avoid negative sigma\n",
    "        # reparameterization\n",
    "        epsilon = tf.random_normal(tf.shape(mu))\n",
    "        z  = mu + tf.multiply(epsilon, sigma)        \n",
    "        return z, mu, sigma"
   ]
  },
  {
   "cell_type": "markdown",
   "metadata": {},
   "source": [
    "### The decoder, i.e., the generator"
   ]
  },
  {
   "cell_type": "code",
   "execution_count": 7,
   "metadata": {
    "collapsed": true
   },
   "outputs": [],
   "source": [
    "def decoder(z, keep_prob):\n",
    "    with tf.variable_scope(\"decoder\", reuse=None):\n",
    "        x = tf.layers.dense(z, units=64, activation=tf.nn.relu)\n",
    "        x = tf.nn.dropout(x, keep_prob)\n",
    "        x = tf.layers.dense(x, units=128, activation=tf.nn.relu)\n",
    "        x = tf.nn.dropout(x, keep_prob)\n",
    "        x = tf.layers.dense(x, units=784, activation=tf.nn.sigmoid) # sigmoid to contrain the output to [0,1)\n",
    "        return x"
   ]
  },
  {
   "cell_type": "markdown",
   "metadata": {},
   "source": [
    "### The conditional variational autoencoder"
   ]
  },
  {
   "cell_type": "code",
   "execution_count": 8,
   "metadata": {
    "collapsed": true
   },
   "outputs": [],
   "source": [
    "z, mu, sigma = encoder(X_in, keep_prob)\n",
    "dec = decoder(z, keep_prob)"
   ]
  },
  {
   "cell_type": "markdown",
   "metadata": {},
   "source": [
    "### The loss objective\n",
    "1. $log(P(X)) - KL(Q(z|X)||P(z|X)) = E_{Q}(logP(X|z)) - KL(Q(z)||P(z|X))$\n",
    "2. Two losses, reconstruction loss and the KL-divergence between Q(z) and P(z|X)\n",
    "3. Note: if sigma is not positive, nan will appear."
   ]
  },
  {
   "cell_type": "code",
   "execution_count": 9,
   "metadata": {
    "collapsed": true
   },
   "outputs": [],
   "source": [
    "recon_loss = tf.reduce_sum(tf.squared_difference(dec, X_out), 1)\n",
    "#recon_loss = - tf.reduce_sum(\n",
    "#    X_out * tf.log(1e-8+dec) + (1.0 - X_out) * tf.log(1e-8+ 1.0 - dec), 1)\n",
    "latent_loss = 0.5 * tf.reduce_sum(\n",
    "    tf.square(mu) + tf.square(sigma) - tf.log(1e-8 + tf.square(sigma)) - 1, 1)\n",
    "loss = tf.reduce_mean(recon_loss + latent_loss)\n",
    "optimizer = tf.train.AdamOptimizer(0.0001).minimize(loss)"
   ]
  },
  {
   "cell_type": "code",
   "execution_count": 10,
   "metadata": {
    "collapsed": true
   },
   "outputs": [],
   "source": [
    "import time\n",
    "\n",
    "def get_timestamp():\n",
    "    \"\"\"Get time at present\"\"\"\n",
    "    import time\n",
    "    timestamp = time.strftime('%Y-%m-%d: %H:%M:%S', time.localtime(time.time()))\n",
    "    return timestamp"
   ]
  },
  {
   "cell_type": "markdown",
   "metadata": {},
   "source": [
    "## Train"
   ]
  },
  {
   "cell_type": "code",
   "execution_count": 11,
   "metadata": {
    "collapsed": true
   },
   "outputs": [],
   "source": [
    "sess = tf.InteractiveSession()\n",
    "sess.run(tf.global_variables_initializer())"
   ]
  },
  {
   "cell_type": "code",
   "execution_count": 12,
   "metadata": {},
   "outputs": [
    {
     "name": "stdout",
     "output_type": "stream",
     "text": [
      "[2018-04-15: 13:44:01] 0 186.81787 181.14697 5.670887\n",
      "[2018-04-15: 13:44:14] 5000 50.955063 50.268845 0.6862215\n",
      "[2018-04-15: 13:44:26] 10000 53.027287 52.15879 0.868497\n",
      "[2018-04-15: 13:44:39] 15000 47.785095 46.664864 1.12023\n",
      "[2018-04-15: 13:44:53] 20000 46.436794 44.621735 1.8150625\n",
      "[2018-04-15: 13:45:05] 25000 45.766506 44.09266 1.6738467\n",
      "[2018-04-15: 13:45:17] 30000 46.23081 44.01616 2.2146459\n",
      "[2018-04-15: 13:45:30] 35000 42.72013 40.13687 2.583256\n",
      "[2018-04-15: 13:45:43] 40000 43.47583 40.94008 2.5357552\n",
      "[2018-04-15: 13:45:56] 45000 43.46711 40.759384 2.7077265\n"
     ]
    }
   ],
   "source": [
    "for i in range(50000):\n",
    "    batch = mnist.train.next_batch(batch_size=batch_size)\n",
    "    sess.run(optimizer, feed_dict = {\n",
    "        X_in: batch[0], X_out: batch[0], keep_prob: 0.5})\n",
    "\n",
    "    if not i % 5000:\n",
    "        batch = mnist.validation.next_batch(batch_size=batch_size)\n",
    "        ls, r_ls, l_ls = sess.run(\n",
    "            [loss, recon_loss, latent_loss], \n",
    "            feed_dict = {\n",
    "                X_in: batch[0], X_out: batch[0], keep_prob: 1.0})\n",
    "        \n",
    "        t = get_timestamp()\n",
    "        print(\"[{0}]\".format(t), i, ls, np.mean(r_ls), np.mean(l_ls))"
   ]
  },
  {
   "cell_type": "markdown",
   "metadata": {},
   "source": [
    "## Test: generate new digits w.r.t. labels"
   ]
  },
  {
   "cell_type": "code",
   "execution_count": 13,
   "metadata": {},
   "outputs": [
    {
     "name": "stderr",
     "output_type": "stream",
     "text": [
      "/home/mzx/.local/lib/python3.5/site-packages/matplotlib/figure.py:403: UserWarning: matplotlib is currently using a non-GUI backend, so cannot show the figure\n",
      "  \"matplotlib is currently using a non-GUI backend, \"\n"
     ]
    },
    {
     "data": {
      "image/png": "[encoded data removed]",
      "text/plain": [
       "<matplotlib.figure.Figure at 0x7f870004e1d0>"
      ]
     },
     "metadata": {},
     "output_type": "display_data"
    }
   ],
   "source": [
    "n_examples = 10\n",
    "\n",
    "fig, axs = plt.subplots(1,n_examples, figsize=(n_examples, 1))\n",
    "\n",
    "z_gen = np.random.normal(0, 1, [n_examples, n_latent])\n",
    "imgs = sess.run(dec, feed_dict = {z: z_gen, keep_prob: 1.0})\n",
    "img_test = [np.reshape(imgs[i], [28, 28]) for i in range(len(imgs))]\n",
    "for example_i in range(n_examples):\n",
    "    # original\n",
    "    axs[example_i].imshow(img_test[example_i], cmap='gray')\n",
    "    axs[example_i].axis('off')\n",
    "\n",
    "fig.show()\n",
    "plt.draw()"
   ]
  }
 ],
 "metadata": {
  "kernelspec": {
   "display_name": "Python 3",
   "language": "python",
   "name": "python3"
  },
  "language_info": {
   "codemirror_mode": {
    "name": "ipython",
    "version": 3
   },
   "file_extension": ".py",
   "mimetype": "text/x-python",
   "name": "python",
   "nbconvert_exporter": "python",
   "pygments_lexer": "ipython3",
   "version": "3.5.2"
  }
 },
 "nbformat": 4,
 "nbformat_minor": 2
}
